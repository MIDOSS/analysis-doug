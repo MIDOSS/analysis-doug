{
 "cells": [
  {
   "cell_type": "markdown",
   "metadata": {},
   "source": [
    "# Development of HDF5 to `xarray.Dataset` Transformation\n",
    "\n",
    "Goal:\n",
    "\n",
    "* Use [PyTables](https://www.pytables.org/index.html)\n",
    "to transform contents of MOHID Lagrangian output file\n",
    "into an [`xarray.Dataset`](http://xarray.pydata.org/en/stable/api.html#dataset) object\n",
    "\n",
    "This is the development notebook for the `moad_tools.midoss.hdf5_to_xarray()` function."
   ]
  },
  {
   "cell_type": "code",
   "execution_count": 1,
   "metadata": {},
   "outputs": [],
   "source": [
    "import arrow\n",
    "import numpy\n",
    "import tables\n",
    "import xarray"
   ]
  },
  {
   "cell_type": "code",
   "execution_count": 2,
   "metadata": {},
   "outputs": [],
   "source": [
    "%matplotlib inline"
   ]
  },
  {
   "cell_type": "markdown",
   "metadata": {},
   "source": [
    "## Open an HDF5 File and Display Its Group Structure"
   ]
  },
  {
   "cell_type": "code",
   "execution_count": 3,
   "metadata": {},
   "outputs": [
    {
     "name": "stdout",
     "output_type": "stream",
     "text": [
      "/ (RootGroup) ''\n",
      "/Grid (Group) ''\n",
      "/Results (Group) ''\n",
      "/Time (Group) ''\n",
      "/Results/Group_1 (Group) ''\n",
      "/Results/Number (Group) ''\n",
      "/Results/OilSpill (Group) ''\n",
      "/Results/Percentage Contaminated (Group) ''\n",
      "/Results/OilSpill/Beached (Group) ''\n",
      "/Results/OilSpill/Data_2D (Group) ''\n",
      "/Results/OilSpill/Data_3D (Group) ''\n",
      "/Results/OilSpill/Freazed (Group) ''\n",
      "/Results/OilSpill/Latitude (Group) ''\n",
      "/Results/OilSpill/Latitude average (Group) ''\n",
      "/Results/OilSpill/Longitude (Group) ''\n",
      "/Results/OilSpill/Longitude average (Group) ''\n",
      "/Results/OilSpill/Model ID (Group) ''\n",
      "/Results/OilSpill/Origin ID (Group) ''\n",
      "/Results/OilSpill/Particle State (Group) ''\n",
      "/Results/OilSpill/Surface State (Group) ''\n",
      "/Results/OilSpill/Thickness (Group) ''\n",
      "/Results/OilSpill/Volume (Group) ''\n",
      "/Results/OilSpill/X Pos (Group) ''\n",
      "/Results/OilSpill/Y Pos (Group) ''\n",
      "/Results/OilSpill/Z Pos (Group) ''\n",
      "/Results/OilSpill/oil (Group) ''\n",
      "/Results/OilSpill/Data_3D/Dissolution_3D (Group) ''\n",
      "/Results/OilSpill/Data_3D/OilConcentration_3D (Group) ''\n",
      "/Results/OilSpill/Data_2D/Beaching Time (Group) ''\n",
      "/Results/OilSpill/Data_2D/Oil Arrival Time (Group) ''\n",
      "/Results/OilSpill/Data_2D/OilConcentration_2D (Group) ''\n",
      "/Results/OilSpill/Data_2D/Thickness_2D (Group) ''\n",
      "/Results/Group_1/Data_1D (Group) ''\n",
      "/Results/Group_1/Data_1D/Beached (Group) ''\n",
      "/Results/Group_1/Data_1D/Latitude (Group) ''\n",
      "/Results/Group_1/Data_1D/Latitude average (Group) ''\n",
      "/Results/Group_1/Data_1D/Longitude (Group) ''\n",
      "/Results/Group_1/Data_1D/Longitude average (Group) ''\n",
      "/Results/Group_1/Data_1D/Model ID (Group) ''\n",
      "/Results/Group_1/Data_1D/Origin ID (Group) ''\n",
      "/Results/Group_1/Data_1D/Particle State (Group) ''\n",
      "/Results/Group_1/Data_1D/Surface State (Group) ''\n",
      "/Results/Group_1/Data_1D/Thickness (Group) ''\n",
      "/Results/Group_1/Data_1D/Volume (Group) ''\n",
      "/Results/Group_1/Data_1D/X Pos (Group) ''\n",
      "/Results/Group_1/Data_1D/Y Pos (Group) ''\n",
      "/Results/Group_1/Data_1D/Z Pos (Group) ''\n",
      "/Results/Group_1/Data_1D/oil (Group) ''\n",
      "/Grid/OpenPoints (Group) ''\n",
      "/Grid/VerticalZ (Group) ''\n"
     ]
    }
   ],
   "source": [
    "h5file = tables.open_file('../../SalishSeaShihan/results/Lagrangian_7_st_georgia_nested.hdf5')\n",
    "for group in h5file.walk_groups():\n",
    "    print(group)"
   ]
  },
  {
   "cell_type": "markdown",
   "metadata": {},
   "source": [
    "## Transform the `Time` Group into an `xarray.Dataset` Coordinate"
   ]
  },
  {
   "cell_type": "code",
   "execution_count": 4,
   "metadata": {},
   "outputs": [
    {
     "data": {
      "text/plain": [
       "/Time/Time_00001 (CArray(6,), zlib(6)) ''\n",
       "  atom := Float32Atom(shape=(), dflt=0.0)\n",
       "  maindim := 0\n",
       "  flavor := 'numpy'\n",
       "  byteorder := 'little'\n",
       "  chunkshape := (6,)"
      ]
     },
     "execution_count": 4,
     "metadata": {},
     "output_type": "execute_result"
    }
   ],
   "source": [
    "h5file.root.Time.Time_00001"
   ]
  },
  {
   "cell_type": "code",
   "execution_count": 5,
   "metadata": {},
   "outputs": [
    {
     "data": {
      "text/plain": [
       "/Time/Time_00001._v_attrs (AttributeSet), 3 attributes:\n",
       "   [Maximum := -9900000000000000.0,\n",
       "    Minimum := -9900000000000000.0,\n",
       "    Units := b'YYYY/MM/DD HH:MM:SS']"
      ]
     },
     "execution_count": 5,
     "metadata": {},
     "output_type": "execute_result"
    }
   ],
   "source": [
    "h5file.root.Time.Time_00001.attrs"
   ]
  },
  {
   "cell_type": "code",
   "execution_count": 6,
   "metadata": {},
   "outputs": [
    {
     "data": {
      "text/plain": [
       "<Arrow [2015-04-08T00:30:00+00:00]>"
      ]
     },
     "execution_count": 6,
     "metadata": {},
     "output_type": "execute_result"
    }
   ],
   "source": [
    "arrow.get(*h5file.root.Time.Time_00001.read().astype(int))"
   ]
  },
  {
   "cell_type": "code",
   "execution_count": 7,
   "metadata": {},
   "outputs": [
    {
     "data": {
      "text/plain": [
       "<xarray.Dataset>\n",
       "Dimensions:  (time: 167)\n",
       "Coordinates:\n",
       "  * time     (time) datetime64[ns] 2015-04-08T00:30:00 ... 2015-04-14T22:30:00\n",
       "Data variables:\n",
       "    *empty*"
      ]
     },
     "execution_count": 7,
     "metadata": {},
     "output_type": "execute_result"
    }
   ],
   "source": [
    "time_coord = xarray.DataArray(\n",
    "    name='time',\n",
    "    data=[\n",
    "        arrow.get(*t.read().astype(int)).datetime \n",
    "        for t in h5file.root.Time\n",
    "    ],\n",
    "    dims='time',\n",
    "    attrs={\n",
    "        'standard_name': 'time',\n",
    "        'long_name': 'time',\n",
    "        'tz_name': 'UTC',\n",
    "    },\n",
    ")\n",
    "\n",
    "ds = xarray.Dataset(\n",
    "    data_vars={},\n",
    "    coords={time_coord.name: time_coord},\n",
    ")\n",
    "ds"
   ]
  },
  {
   "cell_type": "markdown",
   "metadata": {},
   "source": [
    "## Calculate `z`, `y`, and `x` Grid Index Coordinates from 3D Oil Concentration Field"
   ]
  },
  {
   "cell_type": "code",
   "execution_count": 8,
   "metadata": {},
   "outputs": [
    {
     "data": {
      "text/plain": [
       "(40, 396, 896)"
      ]
     },
     "execution_count": 8,
     "metadata": {},
     "output_type": "execute_result"
    }
   ],
   "source": [
    "oil_conc_3d = h5file.root.Results.OilSpill.Data_3D.OilConcentration_3D\n",
    "oil_conc_3d.OilConcentration_3D_00001.shape"
   ]
  },
  {
   "cell_type": "code",
   "execution_count": 9,
   "metadata": {},
   "outputs": [
    {
     "data": {
      "text/plain": [
       "<xarray.Dataset>\n",
       "Dimensions:  (grid_x: 396, grid_y: 896, grid_z: 40, time: 167)\n",
       "Coordinates:\n",
       "  * time     (time) datetime64[ns] 2015-04-08T00:30:00 ... 2015-04-14T22:30:00\n",
       "  * grid_z   (grid_z) int16 0 1 2 3 4 5 6 7 8 9 ... 31 32 33 34 35 36 37 38 39\n",
       "  * grid_y   (grid_y) int16 0 1 2 3 4 5 6 7 ... 888 889 890 891 892 893 894 895\n",
       "  * grid_x   (grid_x) int16 0 1 2 3 4 5 6 7 ... 388 389 390 391 392 393 394 395\n",
       "Data variables:\n",
       "    *empty*"
      ]
     },
     "execution_count": 9,
     "metadata": {},
     "output_type": "execute_result"
    }
   ],
   "source": [
    "oil_conc_3d = h5file.root.Results.OilSpill.Data_3D.OilConcentration_3D\n",
    "z_count, x_count, y_count = oil_conc_3d.OilConcentration_3D_00001.shape\n",
    "z_index = xarray.DataArray(\n",
    "    name='grid_z',\n",
    "    data=numpy.arange(z_count, dtype=numpy.int16),\n",
    "    dims='grid_z',\n",
    "    attrs={\n",
    "        'standard_name': 'model_level_index',\n",
    "        'long_name': 'depth level',\n",
    "    },\n",
    ")\n",
    "y_index = xarray.DataArray(\n",
    "    name='grid_y',\n",
    "    data=numpy.arange(y_count, dtype=numpy.int16),\n",
    "    dims='grid_y',\n",
    "    attrs={\n",
    "        'standard_name': 'model_y_index',\n",
    "        'long_name': 'y index',\n",
    "    },\n",
    ")\n",
    "x_index = xarray.DataArray(\n",
    "    name='grid_x',\n",
    "    data=numpy.arange(x_count, dtype=numpy.int16),\n",
    "    dims='grid_x',\n",
    "    attrs={\n",
    "        'standard_name': 'model_x_index',\n",
    "        'long_name': 'x index',\n",
    "    }\n",
    ")\n",
    "\n",
    "ds = xarray.Dataset(\n",
    "    data_vars={},\n",
    "    coords={\n",
    "        time_coord.name: time_coord, \n",
    "        z_index.name: z_index,\n",
    "        y_index.name: y_index, \n",
    "        x_index.name: x_index,\n",
    "    },\n",
    ")\n",
    "ds"
   ]
  },
  {
   "cell_type": "markdown",
   "metadata": {},
   "source": [
    "We could do something similar to create a particle number index coordinate\n",
    "from one of the `Results` arrays that are not in the `Data_2D` or `Data_3D` groups,\n",
    "but for now we'll focus on `(t, y, x)` and `(t, z, y, x)` arrays."
   ]
  },
  {
   "cell_type": "markdown",
   "metadata": {},
   "source": [
    "## Add 2D Oil Concentration Field\n",
    "\n",
    "An example of how to stack HDF5 `(x, y)` variables in time order and add them to the dataset as a `(t, y, x)` variable.\n",
    "The same technique can be applied to HDF5 `(z, x, y)` variables to add `(t, z, y, x)` variables to the dataset."
   ]
  },
  {
   "cell_type": "code",
   "execution_count": 10,
   "metadata": {},
   "outputs": [
    {
     "data": {
      "text/plain": [
       "<xarray.Dataset>\n",
       "Dimensions:      (grid_x: 396, grid_y: 896, grid_z: 40, time: 167)\n",
       "Coordinates:\n",
       "  * time         (time) datetime64[ns] 2015-04-08T00:30:00 ... 2015-04-14T22:30:00\n",
       "  * grid_y       (grid_y) int16 0 1 2 3 4 5 6 7 ... 889 890 891 892 893 894 895\n",
       "  * grid_x       (grid_x) int16 0 1 2 3 4 5 6 7 ... 389 390 391 392 393 394 395\n",
       "  * grid_z       (grid_z) int16 0 1 2 3 4 5 6 7 8 ... 31 32 33 34 35 36 37 38 39\n",
       "Data variables:\n",
       "    oil_conc_2d  (time, grid_y, grid_x) float32 0.0 0.0 0.0 0.0 ... 0.0 0.0 0.0"
      ]
     },
     "execution_count": 10,
     "metadata": {},
     "output_type": "execute_result"
    }
   ],
   "source": [
    "oil_spill_2d = h5file.root.Results.OilSpill.Data_2D\n",
    "units = (\n",
    "    oil_spill_2d.OilConcentration_2D.OilConcentration_2D_00001.attrs['Units'].decode())\n",
    "oil_conc_2d = xarray.DataArray(\n",
    "    name='oil_conc_2d',\n",
    "    data=numpy.stack(\n",
    "        [field.read().transpose() \n",
    "         for field in oil_spill_2d.OilConcentration_2D], \n",
    "        axis=0),\n",
    "    coords=(time_coord, y_index, x_index),\n",
    "    attrs={\n",
    "        'standard_name': 'oil_concentration',\n",
    "        'long_name': 'oil concentration',\n",
    "        'units': units,\n",
    "    }\n",
    ")\n",
    "\n",
    "ds = xarray.Dataset(\n",
    "    data_vars={\n",
    "        oil_conc_2d.name: oil_conc_2d,\n",
    "    },\n",
    "    coords={\n",
    "        time_coord.name: time_coord, \n",
    "        z_index.name: z_index,\n",
    "        y_index.name: y_index, \n",
    "        x_index.name: x_index,\n",
    "    },\n",
    ")\n",
    "ds"
   ]
  },
  {
   "cell_type": "markdown",
   "metadata": {},
   "source": [
    "## Visualize the Region of Maximum 2D Oil Concentration\n",
    "\n",
    "Do a quick visualiztion to confirm that we have something interesting in the dataset.\n",
    "First, \n",
    "find the `(t, y, x)` location of the maximum oil concentration,\n",
    "then do a surface contour plot of the region around that point."
   ]
  },
  {
   "cell_type": "code",
   "execution_count": 11,
   "metadata": {},
   "outputs": [
    {
     "data": {
      "text/plain": [
       "<xarray.DataArray 'oil_conc_2d' (time: 1, grid_y: 1, grid_x: 1)>\n",
       "array([[[258.66]]], dtype=float32)\n",
       "Coordinates:\n",
       "  * time     (time) datetime64[ns] 2015-04-14T22:30:00\n",
       "  * grid_y   (grid_y) int16 471\n",
       "  * grid_x   (grid_x) int16 328\n",
       "Attributes:\n",
       "    standard_name:  oil_concentration\n",
       "    long_name:      oil concentration\n",
       "    units:          ppm"
      ]
     },
     "execution_count": 11,
     "metadata": {},
     "output_type": "execute_result"
    }
   ],
   "source": [
    "ds.oil_conc_2d.where(oil_conc_2d==ds.oil_conc_2d.max(), drop=True)"
   ]
  },
  {
   "cell_type": "code",
   "execution_count": 12,
   "metadata": {},
   "outputs": [
    {
     "data": {
      "text/plain": [
       "<matplotlib.collections.QuadMesh at 0x7f9f28b1f6a0>"
      ]
     },
     "execution_count": 12,
     "metadata": {},
     "output_type": "execute_result"
    },
    {
     "data": {
      "image/png": "[encoded data removed]",
      "text/plain": [
       "<Figure size 432x288 with 2 Axes>"
      ]
     },
     "metadata": {
      "needs_background": "light"
     },
     "output_type": "display_data"
    }
   ],
   "source": [
    "ds.oil_conc_2d.sel(\n",
    "    time=\"2015-04-14 22:30:00\", \n",
    "    grid_y=slice(421, 521), \n",
    "    grid_x=slice(300, 350),\n",
    ").plot()"
   ]
  },
  {
   "cell_type": "code",
   "execution_count": null,
   "metadata": {},
   "outputs": [],
   "source": []
  }
 ],
 "metadata": {
  "kernelspec": {
   "display_name": "Python 3",
   "language": "python",
   "name": "python3"
  },
  "language_info": {
   "codemirror_mode": {
    "name": "ipython",
    "version": 3
   },
   "file_extension": ".py",
   "mimetype": "text/x-python",
   "name": "python",
   "nbconvert_exporter": "python",
   "pygments_lexer": "ipython3",
   "version": "3.6.6"
  }
 },
 "nbformat": 4,
 "nbformat_minor": 2
}
